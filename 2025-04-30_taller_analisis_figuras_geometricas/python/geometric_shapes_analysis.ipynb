{
  "nbformat": 4,
  "nbformat_minor": 0,
  "metadata": {
    "colab": {
      "provenance": []
    },
    "kernelspec": {
      "name": "python3",
      "display_name": "Python 3"
    },
    "language_info": {
      "name": "python"
    }
  },
  "cells": [
    {
      "cell_type": "code",
      "source": [
        "pip install opencv-python numpy matplotlib"
      ],
      "metadata": {
        "colab": {
          "base_uri": "https://localhost:8080/"
        },
        "id": "PWuFIrbN6J55",
        "outputId": "43d7e9eb-bdb8-4c39-8452-c256a175af6a"
      },
      "execution_count": 13,
      "outputs": [
        {
          "output_type": "stream",
          "name": "stdout",
          "text": [
            "Requirement already satisfied: opencv-python in /usr/local/lib/python3.11/dist-packages (4.11.0.86)\n",
            "Requirement already satisfied: numpy in /usr/local/lib/python3.11/dist-packages (2.0.2)\n",
            "Requirement already satisfied: matplotlib in /usr/local/lib/python3.11/dist-packages (3.10.0)\n",
            "Requirement already satisfied: contourpy>=1.0.1 in /usr/local/lib/python3.11/dist-packages (from matplotlib) (1.3.2)\n",
            "Requirement already satisfied: cycler>=0.10 in /usr/local/lib/python3.11/dist-packages (from matplotlib) (0.12.1)\n",
            "Requirement already satisfied: fonttools>=4.22.0 in /usr/local/lib/python3.11/dist-packages (from matplotlib) (4.57.0)\n",
            "Requirement already satisfied: kiwisolver>=1.3.1 in /usr/local/lib/python3.11/dist-packages (from matplotlib) (1.4.8)\n",
            "Requirement already satisfied: packaging>=20.0 in /usr/local/lib/python3.11/dist-packages (from matplotlib) (24.2)\n",
            "Requirement already satisfied: pillow>=8 in /usr/local/lib/python3.11/dist-packages (from matplotlib) (11.1.0)\n",
            "Requirement already satisfied: pyparsing>=2.3.1 in /usr/local/lib/python3.11/dist-packages (from matplotlib) (3.2.3)\n",
            "Requirement already satisfied: python-dateutil>=2.7 in /usr/local/lib/python3.11/dist-packages (from matplotlib) (2.8.2)\n",
            "Requirement already satisfied: six>=1.5 in /usr/local/lib/python3.11/dist-packages (from python-dateutil>=2.7->matplotlib) (1.17.0)\n"
          ]
        }
      ]
    },
    {
      "cell_type": "code",
      "execution_count": 31,
      "metadata": {
        "colab": {
          "base_uri": "https://localhost:8080/",
          "height": 424
        },
        "id": "xDheCwLi5JbP",
        "outputId": "d665505e-25c1-4247-a322-98d1286d4d19"
      },
      "outputs": [
        {
          "output_type": "display_data",
          "data": {
            "text/plain": [
              "<Figure size 640x480 with 1 Axes>"
            ],
            "image/png": "[encoded data removed]"
          },
          "metadata": {}
        },
        {
          "output_type": "stream",
          "name": "stdout",
          "text": [
            "GIF creado como 'animacion.gif'\n"
          ]
        }
      ],
      "source": [
        "import cv2\n",
        "import numpy as np\n",
        "import matplotlib.pyplot as plt\n",
        "import os\n",
        "import imageio.v2 as imageio\n",
        "\n",
        "# 1. Crear imagen si no existe\n",
        "if not os.path.exists('imagen.png'):\n",
        "    # Crear lienzo en blanco (600x600, escala de grises)\n",
        "    img = np.zeros((600, 600), dtype=np.uint8)\n",
        "\n",
        "    # Círculo (centro en (200, 200), radio 60)\n",
        "    cv2.circle(img, (200, 200), 60, 255, -1)  # Blanco, relleno\n",
        "\n",
        "    # Cuadrado (esquina superior izquierda (350, 150), tamaño 80x80)\n",
        "    cv2.rectangle(img, (350, 150), (430, 230), 255, -1)  # Blanco, relleno\n",
        "\n",
        "    # Triángulo (vértices definidos manualmente)\n",
        "    triangle_pts = np.array([[150, 350], [250, 350], [200, 270]], np.int32)\n",
        "    triangle_pts = triangle_pts.reshape((-1, 1, 2))\n",
        "    cv2.fillPoly(img, [triangle_pts], 255)  # Blanco, relleno\n",
        "\n",
        "    # Guardar la imagen creada\n",
        "    cv2.imwrite('imagen.png', img)\n",
        "else:\n",
        "    img = cv2.imread('imagen.png', 0)  # Escala de grises\n",
        "\n",
        "# 2. Binarizar imagen\n",
        "_, binary = cv2.threshold(img, 127, 255, cv2.THRESH_BINARY)\n",
        "\n",
        "# 3. Guardar imagen original (primer frame)\n",
        "img_original = cv2.cvtColor(img, cv2.COLOR_GRAY2BGR)\n",
        "cv2.imwrite('original.png', img_original)\n",
        "\n",
        "# 4. Detectar contornos\n",
        "contours, _ = cv2.findContours(binary, cv2.RETR_EXTERNAL, cv2.CHAIN_APPROX_SIMPLE)\n",
        "\n",
        "# 5. Copia de la imagen original para dibujar\n",
        "img_color = cv2.cvtColor(img, cv2.COLOR_GRAY2BGR)\n",
        "\n",
        "# 6. Etapa 1: Guardar solo contornos\n",
        "img_contornos = img_color.copy()\n",
        "for cnt in contours:\n",
        "    cv2.drawContours(img_contornos, [cnt], -1, (0, 255, 0), 2)\n",
        "cv2.imwrite('contornos.png', img_contornos)\n",
        "\n",
        "# 7. Etapa 2: Guardar contornos + métricas (área, perímetro, centroide)\n",
        "img_metricas = img_contornos.copy()\n",
        "for cnt in contours:\n",
        "    # Área\n",
        "    area = cv2.contourArea(cnt)\n",
        "    # Perímetro\n",
        "    perimeter = cv2.arcLength(cnt, True)\n",
        "    # Centroide\n",
        "    M = cv2.moments(cnt)\n",
        "    if M['m00'] != 0:\n",
        "        cx = int(M['m10'] / M['m00'])\n",
        "        cy = int(M['m01'] / M['m00'])\n",
        "    else:\n",
        "        cx, cy = 0, 0\n",
        "\n",
        "    # Etiquetar métricas\n",
        "    cv2.putText(img_metricas, f'Area: {area:.0f}', (cx-50, cy-30), cv2.FONT_HERSHEY_SIMPLEX, 0.5, (255, 0, 0), 1)\n",
        "    cv2.putText(img_metricas, f'Per: {perimeter:.1f}', (cx-50, cy-10), cv2.FONT_HERSHEY_SIMPLEX, 0.5, (255, 0, 0), 1)\n",
        "    cv2.putText(img_metricas, f'Centro: ({cx}, {cy})', (cx-50, cy+10), cv2.FONT_HERSHEY_SIMPLEX, 0.5, (255, 0, 0), 1)\n",
        "cv2.imwrite('metricas.png', img_metricas)\n",
        "\n",
        "# 8. Etapa 3: Guardar contornos + métricas + clasificación\n",
        "img_final = img_metricas.copy()\n",
        "for cnt in contours:\n",
        "    # Centroide (necesario para posicionar el texto)\n",
        "    M = cv2.moments(cnt)\n",
        "    if M['m00'] != 0:\n",
        "        cx = int(M['m10'] / M['m00'])\n",
        "        cy = int(M['m01'] / M['m00'])\n",
        "    else:\n",
        "        cx, cy = 0, 0\n",
        "\n",
        "    # Clasificar forma\n",
        "    approx = cv2.approxPolyDP(cnt, 0.02 * cv2.arcLength(cnt, True), True)\n",
        "    if len(approx) == 3:\n",
        "        shape = \"Triangulo\"\n",
        "    elif len(approx) == 4:\n",
        "        shape = \"Cuadrado\"\n",
        "    else:\n",
        "        shape = \"Circulo\"\n",
        "    cv2.putText(img_final, shape, (cx-50, cy+30), cv2.FONT_HERSHEY_SIMPLEX, 0.5, (0, 0, 255), 1)\n",
        "cv2.imwrite('resultado.png', img_final)\n",
        "\n",
        "# 9. Mostrar resultado final\n",
        "plt.imshow(img_final)\n",
        "plt.axis('off')\n",
        "plt.show()\n",
        "\n",
        "# 10. Crear GIF\n",
        "images = ['original.png', 'contornos.png', 'metricas.png', 'resultado.png']\n",
        "with imageio.get_writer('animacion.gif', mode='I', duration=1000) as writer:\n",
        "    for filename in images:\n",
        "        image = imageio.imread(filename)\n",
        "        writer.append_data(image)\n",
        "\n",
        "print(\"GIF creado como 'animacion.gif'\")"
      ]
    }
  ]
}