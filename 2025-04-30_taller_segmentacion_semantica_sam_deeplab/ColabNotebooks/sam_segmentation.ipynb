{
  "nbformat": 4,
  "nbformat_minor": 0,
  "metadata": {
    "colab": {
      "provenance": []
    },
    "kernelspec": {
      "name": "python3",
      "display_name": "Python 3"
    },
    "language_info": {
      "name": "python"
    }
  },
  "cells": [
    {
      "cell_type": "code",
      "source": [
        "pip install git+https://github.com/facebookresearch/segment-anything.git"
      ],
      "metadata": {
        "colab": {
          "base_uri": "https://localhost:8080/"
        },
        "collapsed": true,
        "id": "B2wR-jYkQhEJ",
        "outputId": "04720de9-d218-4751-c2ce-75dd15669722"
      },
      "execution_count": 3,
      "outputs": [
        {
          "output_type": "stream",
          "name": "stdout",
          "text": [
            "Collecting git+https://github.com/facebookresearch/segment-anything.git\n",
            "  Cloning https://github.com/facebookresearch/segment-anything.git to /tmp/pip-req-build-pwo83_og\n",
            "  Running command git clone --filter=blob:none --quiet https://github.com/facebookresearch/segment-anything.git /tmp/pip-req-build-pwo83_og\n",
            "  Resolved https://github.com/facebookresearch/segment-anything.git to commit dca509fe793f601edb92606367a655c15ac00fdf\n",
            "  Preparing metadata (setup.py) ... \u001b[?25l\u001b[?25hdone\n",
            "Building wheels for collected packages: segment_anything\n",
            "  Building wheel for segment_anything (setup.py) ... \u001b[?25l\u001b[?25hdone\n",
            "  Created wheel for segment_anything: filename=segment_anything-1.0-py3-none-any.whl size=36592 sha256=eaf80c806de92c068592b12a5c537d36e112f8b46806a009b6110c243f9c70ee\n",
            "  Stored in directory: /tmp/pip-ephem-wheel-cache-hkfwihpb/wheels/15/d7/bd/05f5f23b7dcbe70cbc6783b06f12143b0cf1a5da5c7b52dcc5\n",
            "Successfully built segment_anything\n",
            "Installing collected packages: segment_anything\n",
            "Successfully installed segment_anything-1.0\n"
          ]
        }
      ]
    },
    {
      "cell_type": "code",
      "execution_count": 2,
      "metadata": {
        "colab": {
          "base_uri": "https://localhost:8080/"
        },
        "collapsed": true,
        "id": "TN88XKlPP_J7",
        "outputId": "0e31751e-beb3-4013-fbdb-ac28a1c39dd7"
      },
      "outputs": [
        {
          "output_type": "stream",
          "name": "stdout",
          "text": [
            "Collecting supervision\n",
            "  Downloading supervision-0.25.1-py3-none-any.whl.metadata (14 kB)\n",
            "Requirement already satisfied: opencv-python in /usr/local/lib/python3.11/dist-packages (4.11.0.86)\n",
            "Requirement already satisfied: matplotlib in /usr/local/lib/python3.11/dist-packages (3.10.0)\n",
            "Requirement already satisfied: contourpy>=1.0.7 in /usr/local/lib/python3.11/dist-packages (from supervision) (1.3.2)\n",
            "Requirement already satisfied: defusedxml<0.8.0,>=0.7.1 in /usr/local/lib/python3.11/dist-packages (from supervision) (0.7.1)\n",
            "Requirement already satisfied: numpy>=1.21.2 in /usr/local/lib/python3.11/dist-packages (from supervision) (2.0.2)\n",
            "Requirement already satisfied: pillow>=9.4 in /usr/local/lib/python3.11/dist-packages (from supervision) (11.2.1)\n",
            "Requirement already satisfied: pyyaml>=5.3 in /usr/local/lib/python3.11/dist-packages (from supervision) (6.0.2)\n",
            "Requirement already satisfied: requests>=2.26.0 in /usr/local/lib/python3.11/dist-packages (from supervision) (2.32.3)\n",
            "Requirement already satisfied: scipy<2.0.0,>=1.10.0 in /usr/local/lib/python3.11/dist-packages (from supervision) (1.15.2)\n",
            "Requirement already satisfied: tqdm>=4.62.3 in /usr/local/lib/python3.11/dist-packages (from supervision) (4.67.1)\n",
            "Requirement already satisfied: cycler>=0.10 in /usr/local/lib/python3.11/dist-packages (from matplotlib) (0.12.1)\n",
            "Requirement already satisfied: fonttools>=4.22.0 in /usr/local/lib/python3.11/dist-packages (from matplotlib) (4.57.0)\n",
            "Requirement already satisfied: kiwisolver>=1.3.1 in /usr/local/lib/python3.11/dist-packages (from matplotlib) (1.4.8)\n",
            "Requirement already satisfied: packaging>=20.0 in /usr/local/lib/python3.11/dist-packages (from matplotlib) (24.2)\n",
            "Requirement already satisfied: pyparsing>=2.3.1 in /usr/local/lib/python3.11/dist-packages (from matplotlib) (3.2.3)\n",
            "Requirement already satisfied: python-dateutil>=2.7 in /usr/local/lib/python3.11/dist-packages (from matplotlib) (2.9.0.post0)\n",
            "Requirement already satisfied: six>=1.5 in /usr/local/lib/python3.11/dist-packages (from python-dateutil>=2.7->matplotlib) (1.17.0)\n",
            "Requirement already satisfied: charset-normalizer<4,>=2 in /usr/local/lib/python3.11/dist-packages (from requests>=2.26.0->supervision) (3.4.1)\n",
            "Requirement already satisfied: idna<4,>=2.5 in /usr/local/lib/python3.11/dist-packages (from requests>=2.26.0->supervision) (3.10)\n",
            "Requirement already satisfied: urllib3<3,>=1.21.1 in /usr/local/lib/python3.11/dist-packages (from requests>=2.26.0->supervision) (2.4.0)\n",
            "Requirement already satisfied: certifi>=2017.4.17 in /usr/local/lib/python3.11/dist-packages (from requests>=2.26.0->supervision) (2025.1.31)\n",
            "Downloading supervision-0.25.1-py3-none-any.whl (181 kB)\n",
            "\u001b[2K   \u001b[90m━━━━━━━━━━━━━━━━━━━━━━━━━━━━━━━━━━━━━━━━\u001b[0m \u001b[32m181.5/181.5 kB\u001b[0m \u001b[31m3.5 MB/s\u001b[0m eta \u001b[36m0:00:00\u001b[0m\n",
            "\u001b[?25hInstalling collected packages: supervision\n",
            "Successfully installed supervision-0.25.1\n"
          ]
        }
      ],
      "source": [
        "pip install supervision opencv-python matplotlib"
      ]
    },
    {
      "cell_type": "code",
      "source": [
        "!wget https://dl.fbaipublicfiles.com/segment_anything/sam_vit_h_4b8939.pth"
      ],
      "metadata": {
        "colab": {
          "base_uri": "https://localhost:8080/"
        },
        "id": "DwuZZNm5TS25",
        "outputId": "b851e55a-6be3-4451-bcfe-9a544ab532a7"
      },
      "execution_count": 7,
      "outputs": [
        {
          "output_type": "stream",
          "name": "stdout",
          "text": [
            "--2025-04-30 01:26:14--  https://dl.fbaipublicfiles.com/segment_anything/sam_vit_h_4b8939.pth\n",
            "Resolving dl.fbaipublicfiles.com (dl.fbaipublicfiles.com)... 13.35.7.38, 13.35.7.50, 13.35.7.128, ...\n",
            "Connecting to dl.fbaipublicfiles.com (dl.fbaipublicfiles.com)|13.35.7.38|:443... connected.\n",
            "HTTP request sent, awaiting response... 200 OK\n",
            "Length: 2564550879 (2.4G) [binary/octet-stream]\n",
            "Saving to: ‘sam_vit_h_4b8939.pth’\n",
            "\n",
            "sam_vit_h_4b8939.pt 100%[===================>]   2.39G  50.3MB/s    in 35s     \n",
            "\n",
            "2025-04-30 01:26:49 (70.5 MB/s) - ‘sam_vit_h_4b8939.pth’ saved [2564550879/2564550879]\n",
            "\n"
          ]
        }
      ]
    },
    {
      "cell_type": "code",
      "source": [
        "from segment_anything import SamPredictor, sam_model_registry\n",
        "import cv2\n",
        "import numpy as np\n",
        "from PIL import Image\n",
        "import matplotlib.pyplot as plt\n",
        "import imageio.v2 as imageio\n",
        "import os\n",
        "\n",
        "# Crear directorios para la entrega\n",
        "base_dir = \"2025-04-29_taller_segmentacion_semantica_sam_deeplab\"\n",
        "os.makedirs(f\"{base_dir}/imagenes_entrada\", exist_ok=True)\n",
        "os.makedirs(f\"{base_dir}/mascaras_salida\", exist_ok=True)\n",
        "os.makedirs(f\"{base_dir}/resultados\", exist_ok=True)\n",
        "\n",
        "# Cargar imagen\n",
        "image_path = f\"{base_dir}/imagenes_entrada/imagen.jpg\"\n",
        "image = cv2.imread(image_path)\n",
        "if image is None:\n",
        "    raise FileNotFoundError(f\"No se pudo cargar la imagen en {image_path}\")\n",
        "image = cv2.cvtColor(image, cv2.COLOR_BGR2RGB)\n",
        "\n",
        "# Cargar modelo\n",
        "checkpoint_path = \"sam_vit_h_4b8939.pth\"  # Descarga desde: https://dl.fbaipublicfiles.com/segment_anything/sam_vit_h_4b8939.pth\n",
        "if not os.path.exists(checkpoint_path):\n",
        "    raise FileNotFoundError(f\"No se encontró el checkpoint en {checkpoint_path}. Descarga 'sam_vit_h_4b8939.pth' desde el enlace proporcionado.\")\n",
        "sam = sam_model_registry[\"vit_h\"](checkpoint=checkpoint_path).to(\"cpu\")  # Usar CPU\n",
        "predictor = SamPredictor(sam)\n",
        "predictor.set_image(image)\n",
        "\n",
        "# Seleccionar punto para segmentar\n",
        "input_point = np.array([[300, 300]])  # Punto en la imagen\n",
        "input_label = np.array([1])\n",
        "\n",
        "# Obtener máscaras\n",
        "masks, scores, _ = predictor.predict(\n",
        "    point_coords=input_point,\n",
        "    point_labels=input_label,\n",
        "    multimask_output=True\n",
        ")\n",
        "\n",
        "# Definir colores para cada máscara\n",
        "colors = ['red', 'green', 'blue']  # Un color por máscara (hasta 3 máscaras)\n",
        "\n",
        "# Función para dibujar contornos de la máscara\n",
        "def draw_mask_contours(image, mask, ax, color='red'):\n",
        "    contours, _ = cv2.findContours(mask.astype(np.uint8), cv2.RETR_EXTERNAL, cv2.CHAIN_APPROX_SIMPLE)\n",
        "    for contour in contours:\n",
        "        contour = contour.squeeze()\n",
        "        if contour.ndim == 1:\n",
        "            continue\n",
        "        ax.plot(contour[:, 0], contour[:, 1], color=color, linewidth=2)\n",
        "\n",
        "# Función para redimensionar y convertir a RGB\n",
        "def prepare_image_for_gif(image_array, target_shape):\n",
        "    image_pil = Image.fromarray(image_array)\n",
        "    image_pil = image_pil.resize((target_shape[1], target_shape[0]), Image.LANCZOS)\n",
        "    # Convertir a RGB (3 canales)\n",
        "    if image_pil.mode != 'RGB':\n",
        "        image_pil = image_pil.convert('RGB')\n",
        "    return np.array(image_pil)\n",
        "\n",
        "# Visualizar resultados, guardar máscaras y preparar imágenes para GIF\n",
        "gif_frames = []\n",
        "target_shape = image.shape[:2]  # Altura y ancho de la imagen original\n",
        "\n",
        "# Añadir imagen original al GIF\n",
        "plt.figure(figsize=(10, 10))\n",
        "plt.imshow(image)\n",
        "plt.title(\"Imagen Original\")\n",
        "plt.axis(\"off\")\n",
        "original_path = f\"{base_dir}/resultados/imagen_original.png\"\n",
        "plt.savefig(original_path, bbox_inches='tight')\n",
        "plt.close()\n",
        "original_frame = imageio.imread(original_path)\n",
        "original_frame = prepare_image_for_gif(original_frame, target_shape)\n",
        "gif_frames.append(original_frame)\n",
        "print(f\"Original frame shape: {original_frame.shape}\")\n",
        "\n",
        "# Procesar cada máscara\n",
        "for i, (mask, score) in enumerate(zip(masks, scores)):\n",
        "    # Guardar máscara como imagen binaria\n",
        "    mask_binary = mask.astype(np.uint8) * 255\n",
        "    mask_pil = Image.fromarray(mask_binary)\n",
        "    mask_binary_path = f\"{base_dir}/mascaras_salida/mask_{i}.png\"\n",
        "    mask_pil.save(mask_binary_path)\n",
        "\n",
        "    # Visualizar máscara con color específico\n",
        "    plt.figure(figsize=(10, 10))\n",
        "    plt.imshow(image)\n",
        "    draw_mask_contours(image, mask, plt.gca(), color=colors[i % len(colors)])\n",
        "    plt.title(f\"Máscara {i} (Score: {score:.3f})\")\n",
        "    plt.axis(\"off\")\n",
        "    mask_colored_path = f\"{base_dir}/resultados/mask_colored_{i}.png\"\n",
        "    plt.savefig(mask_colored_path, bbox_inches='tight')\n",
        "    plt.close()\n",
        "\n",
        "    # Añadir imágenes al GIF: coloreada y binaria\n",
        "    colored_frame = imageio.imread(mask_colored_path)\n",
        "    colored_frame = prepare_image_for_gif(colored_frame, target_shape)\n",
        "    gif_frames.append(colored_frame)\n",
        "    print(f\"Colored frame {i} shape: {colored_frame.shape}\")\n",
        "\n",
        "    binary_frame = imageio.imread(mask_binary_path)\n",
        "    binary_frame = prepare_image_for_gif(binary_frame, target_shape)\n",
        "    gif_frames.append(binary_frame)\n",
        "    print(f\"Binary frame {i} shape: {binary_frame.shape}\")\n",
        "\n",
        "# Guardar imagen original\n",
        "Image.fromarray(image).save(original_path)\n",
        "\n",
        "# Generar GIF animado\n",
        "gif_path = f\"{base_dir}/resultados/segmentation_process.gif\"\n",
        "imageio.mimsave(gif_path, gif_frames, duration=1000)  # 1 segundo por frame"
      ],
      "metadata": {
        "id": "Sa_Z86ErQAn5"
      },
      "execution_count": null,
      "outputs": []
    }
  ]
}